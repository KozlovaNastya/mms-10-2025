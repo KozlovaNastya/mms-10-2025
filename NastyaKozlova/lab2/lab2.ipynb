{
  "metadata": {
    "kernelspec": {
      "name": "xpython",
      "display_name": "Python 3.13 (XPython)",
      "language": "python"
    },
    "language_info": {
      "file_extension": ".py",
      "mimetype": "text/x-python",
      "name": "python",
      "version": "3.13.1"
    }
  },
  "nbformat_minor": 5,
  "nbformat": 4,
  "cells": [
    {
      "id": "b44535c1-0e0a-4263-9d5a-df5498a2ed1c",
      "cell_type": "code",
      "source": "answers = [\n    [3, 0],\n    [5, 1],\n]",
      "metadata": {
        "trusted": true
      },
      "outputs": [],
      "execution_count": 2
    },
    {
      "id": "087cc5be-b974-40d1-87ca-5dd56f4092c7",
      "cell_type": "code",
      "source": "def alex(opponent_last, memory=None):\n    return 1, memory;\n\ndef bob(opponent_last, memory=None):\n    return 0, memory;\n\ndef clara(opponent_last, memory=None):\n    if opponent_last is None:\n        return 1, memory\n    return opponent_last, memory\n\ndef denis(opponent_last, memory=None):\n    if opponent_last is None:\n        return 1, memory\n    return 1 if opponent_last == 0 else 0, memory\n\ndef emma(opponent_last, memory=None):\n    if memory is None:\n        memory = {'round': 0}\n    \n    memory['round'] += 1\n    \n    if memory['round'] % 20 == 0:\n        return 0, memory\n    else:\n        return 1, memory\n\ndef frida(opponent_last, memory=None):\n    if memory is None:\n        memory = {'opponent_always_1': True}\n    \n    if opponent_last is None:\n        return 1, memory\n    \n    if opponent_last == 0:\n        memory['opponent_always_1'] = False\n    \n    if memory['opponent_always_1']:\n        return 1, memory\n    else:\n        return 0, memory\n\ndef george(opponent_last, memory=None):\n    if memory is None:\n        memory = { 'count': 0 }\n        return 0, memory\n    \n    if opponent_last == 1:\n        memory['count'] += 1\n    \n    if memory['count'] >= 10 and opponent_last == 1:\n        memory['count'] = 0\n        return 0, memory\n    else:\n        return opponent_last, memory",
      "metadata": {
        "trusted": true
      },
      "outputs": [],
      "execution_count": 5
    },
    {
      "id": "02c86321-b133-40c1-ab56-ba1a43c7369f",
      "cell_type": "code",
      "source": "def play_game(strategy_a, strategy_b):\n    score_a = 0\n    score_b = 0\n    last_a = None\n    last_b = None\n    memory_a = None\n    memory_b = None\n\n    max_dominant_a = 0\n    max_dominant_b = 0\n    current_dominant_a = 0\n    current_dominant_b = 0\n    \n    for i in range(200):\n        choice_a, memory_a = strategy_a(last_b, memory_a)\n        choice_b, memory_b = strategy_b(last_a, memory_b)\n        \n        points_a = answers[choice_a][choice_b]\n        points_b = answers[choice_b][choice_a]\n        \n        score_a += points_a\n        score_b += points_b\n        \n        last_a = choice_a\n        last_b = choice_b\n\n        if points_a == 5 and points_b == 0:\n            current_dominant_a += 1\n            current_dominant_b = 0\n            max_dominant_a = max(max_dominant_a, current_dominant_a)\n        elif points_b == 5 and points_a == 0:\n            current_dominant_b += 1\n            current_dominant_a = 0\n            max_dominant_b = max(max_dominant_b, current_dominant_b)\n        else:\n            current_dominant_a = 0\n            current_dominant_b = 0\n    \n    return score_a, score_b, max_dominant_a, max_dominant_b",
      "metadata": {
        "trusted": true
      },
      "outputs": [],
      "execution_count": 6
    },
    {
      "id": "91a65978-6adc-458a-ab61-31f0411c50b3",
      "cell_type": "code",
      "source": "strategies = [\n    (\"alex\", alex),\n    (\"bob\", bob),\n    (\"clara\", clara),\n    (\"denis\", denis),\n    (\"emma\", emma),\n    (\"frida\", frida),\n    (\"george\", george)\n]",
      "metadata": {
        "trusted": true
      },
      "outputs": [],
      "execution_count": 7
    },
    {
      "id": "37800ce2-83b3-4109-b68f-51ddb0c4695b",
      "cell_type": "code",
      "source": "total_scores = {name: 0 for name, _ in strategies}\ndominant_series = {name: 0 for name, _ in strategies}\npairwise_scores = {}\npairwise_dominant = {}\n\nfor i, (name1, strat1) in enumerate(strategies):\n    for j, (name2, strat2) in enumerate(strategies):\n            score1, score2, dom1, dom2 = play_game(strat1, strat2)\n            total_scores[name1] += score1\n            total_scores[name2] += score2\n            dominant_series[name1] += dom1\n            dominant_series[name2] += dom2\n            \n            pairwise_scores[(name1, name2)] = (score1, score2)\n            pairwise_dominant[(name1, name2)] = (dom1, dom2)",
      "metadata": {
        "trusted": true
      },
      "outputs": [],
      "execution_count": 10
    },
    {
      "id": "41fd84a3-c201-42b0-b23a-e48d6798d5f0",
      "cell_type": "code",
      "source": "print(\"\\n\" + \"=\" * 70)\nprint(\"ТАБЛИЦА 1: ОБЩЕЕ ЧИСЛО ОЧКОВ\")\nprint(\"=\" * 70)\n\nprint(f\"{'':<12}\", end=\"\")\nfor name, _ in strategies:\n    print(f\"{name:<8}\", end=\"\")\nprint(\"Total\")\n\nfor name1, _ in strategies:\n    print(f\"{name1:<12}\", end=\"\")\n    for name2, _ in strategies:\n        score1, score2 = pairwise_scores[(name1, name2)]\n        print(f\"{score1:<8}\", end=\"\")\n    print(f\"{total_scores[name1]:<8}\")\n\nprint(\"\\n\" + \"=\" * 70)\nprint(\"ТАБЛИЦА 2: ДЛИНА НАИБОЛЬШЕЙ ДОМИНИРУЮЩЕЙ СЕРИИ\")\nprint(\"=\" * 70)\n\nprint(f\"{'':<12}\", end=\"\")\nfor name, _ in strategies:\n    print(f\"{name:<8}\", end=\"\")\nprint(\"Total\")\n\nfor name1, _ in strategies:\n    print(f\"{name1:<12}\", end=\"\")\n    for name2, _ in strategies:\n        dom1, dom2 = pairwise_dominant[(name1, name2)]\n        print(f\"{dom1:<8}\", end=\"\")\n    print(f\"{dominant_series[name1]:<8}\")\n\nprint(\"\\n\" + \"=\" * 70)\nprint(\"РЕЙТИНГ СТРАТЕГИЙ ПО ОБЩЕМУ ЧИСЛУ ОЧКОВ\")\nprint(\"=\" * 70)\nsorted_by_score = sorted(total_scores.items(), key=lambda x: x[1], reverse=True)\nfor rank, (name, score) in enumerate(sorted_by_score, 1):\n    print(f\"{rank:2}. {name:<10}: {score:>6} очков\")\n\nprint(\"\\n\" + \"=\" * 70)\nprint(\"РЕЙТИНГ СТРАТЕГИЙ ПО ДОМИНИРУЮЩИМ СЕРИЯМ\")\nprint(\"=\" * 70)\nsorted_by_dominant = sorted(dominant_series.items(), key=lambda x: x[1], reverse=True)\nfor rank, (name, dom) in enumerate(sorted_by_dominant, 1):\n    print(f\"{rank:2}. {name:<10}: {dom:>6} серий\")",
      "metadata": {
        "trusted": true
      },
      "outputs": [
        {
          "name": "stdout",
          "output_type": "stream",
          "text": "\n======================================================================\nТАБЛИЦА 1: ОБЩЕЕ ЧИСЛО ОЧКОВ\n======================================================================\n            alex    bob     clara   denis   emma    frida   george  Total\nalex        200     1000    200     996     240     200     280     6232    \nbob         0       600     597     0       30      597     600     4848    \nclara       200     602     200     450     231     200     593     4952    \ndenis       1       1000    450     400     40      989     474     6708    \nemma        190     980     226     940     220     901     305     7524    \nfrida       200     602     200     9       51      200     599     3722    \ngeorge      180     600     588     419     210     599     600     6392    \n\n======================================================================\nТАБЛИЦА 2: ДЛИНА НАИБОЛЬШЕЙ ДОМИНИРУЮЩЕЙ СЕРИИ\n======================================================================\n            alex    bob     clara   denis   emma    frida   george  Total\nalex        0       200     0       199     1       0       1       802     \nbob         0       0       0       0       0       0       0       0       \nclara       0       1       0       1       1       0       1       8       \ndenis       0       200     1       0       0       197     1       798     \nemma        0       19      1       18      0       19      2       118     \nfrida       0       1       0       1       1       0       1       8       \ngeorge      0       0       1       1       1       1       0       8       \n\n======================================================================\nРЕЙТИНГ СТРАТЕГИЙ ПО ОБЩЕМУ ЧИСЛУ ОЧКОВ\n======================================================================\n 1. emma      :   7524 очков\n 2. denis     :   6708 очков\n 3. george    :   6392 очков\n 4. alex      :   6232 очков\n 5. clara     :   4952 очков\n 6. bob       :   4848 очков\n 7. frida     :   3722 очков\n\n======================================================================\nРЕЙТИНГ СТРАТЕГИЙ ПО ДОМИНИРУЮЩИМ СЕРИЯМ\n======================================================================\n 1. alex      :    802 серий\n 2. denis     :    798 серий\n 3. emma      :    118 серий\n 4. clara     :      8 серий\n 5. frida     :      8 серий\n 6. george    :      8 серий\n 7. bob       :      0 серий\n"
        }
      ],
      "execution_count": 11
    },
    {
      "id": "09a8550c-991b-4711-8929-259a04d7f0e4",
      "cell_type": "code",
      "source": "",
      "metadata": {
        "trusted": true
      },
      "outputs": [],
      "execution_count": null
    }
  ]
}